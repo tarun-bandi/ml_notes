{
  "cells": [
    {
      "cell_type": "markdown",
      "metadata": {
        "id": "view-in-github",
        "colab_type": "text"
      },
      "source": [
        "<a href=\"https://colab.research.google.com/github/tarun-bandi/ml_notes/blob/main/lenet.ipynb\" target=\"_parent\"><img src=\"https://colab.research.google.com/assets/colab-badge.svg\" alt=\"Open In Colab\"/></a>"
      ]
    },
    {
      "cell_type": "code",
      "execution_count": 1,
      "metadata": {
        "colab": {
          "base_uri": "https://localhost:8080/"
        },
        "id": "RuTlOkIovbVf",
        "outputId": "f83fbe6f-6a0f-43ac-997b-e163ce86c86c"
      },
      "outputs": [
        {
          "output_type": "stream",
          "name": "stdout",
          "text": [
            "Collecting torchinfo\n",
            "  Downloading torchinfo-1.8.0-py3-none-any.whl.metadata (21 kB)\n",
            "Downloading torchinfo-1.8.0-py3-none-any.whl (23 kB)\n",
            "Installing collected packages: torchinfo\n",
            "Successfully installed torchinfo-1.8.0\n"
          ]
        }
      ],
      "source": [
        "!pip install torchinfo"
      ]
    },
    {
      "cell_type": "code",
      "execution_count": 2,
      "metadata": {
        "id": "wqTyGAeStl4i"
      },
      "outputs": [],
      "source": [
        "import numpy as np\n",
        "import matplotlib.pyplot as plt\n",
        "import torch\n",
        "from torch.utils.data import Dataset, DataLoader\n",
        "from torchvision.transforms import ToTensor\n",
        "from torch import nn\n",
        "from torchvision import datasets, transforms\n",
        "from torchinfo import summary\n",
        "from tqdm import tqdm\n",
        "import torch.optim as optim\n",
        "\n"
      ]
    },
    {
      "cell_type": "markdown",
      "metadata": {
        "id": "dydobxEBVVPS"
      },
      "source": [
        "Let's download the MNIST dataset"
      ]
    },
    {
      "cell_type": "code",
      "execution_count": 3,
      "metadata": {
        "colab": {
          "base_uri": "https://localhost:8080/"
        },
        "id": "MIVAcVpotnv1",
        "outputId": "3ee484a8-6c37-4621-f8e2-d4472306bdb9"
      },
      "outputs": [
        {
          "output_type": "stream",
          "name": "stdout",
          "text": [
            "Downloading http://yann.lecun.com/exdb/mnist/train-images-idx3-ubyte.gz\n",
            "Failed to download (trying next):\n",
            "HTTP Error 403: Forbidden\n",
            "\n",
            "Downloading https://ossci-datasets.s3.amazonaws.com/mnist/train-images-idx3-ubyte.gz\n",
            "Downloading https://ossci-datasets.s3.amazonaws.com/mnist/train-images-idx3-ubyte.gz to data/MNIST/raw/train-images-idx3-ubyte.gz\n"
          ]
        },
        {
          "output_type": "stream",
          "name": "stderr",
          "text": [
            "100%|██████████| 9.91M/9.91M [00:00<00:00, 16.3MB/s]\n"
          ]
        },
        {
          "output_type": "stream",
          "name": "stdout",
          "text": [
            "Extracting data/MNIST/raw/train-images-idx3-ubyte.gz to data/MNIST/raw\n",
            "\n",
            "Downloading http://yann.lecun.com/exdb/mnist/train-labels-idx1-ubyte.gz\n",
            "Failed to download (trying next):\n",
            "HTTP Error 403: Forbidden\n",
            "\n",
            "Downloading https://ossci-datasets.s3.amazonaws.com/mnist/train-labels-idx1-ubyte.gz\n",
            "Downloading https://ossci-datasets.s3.amazonaws.com/mnist/train-labels-idx1-ubyte.gz to data/MNIST/raw/train-labels-idx1-ubyte.gz\n"
          ]
        },
        {
          "output_type": "stream",
          "name": "stderr",
          "text": [
            "100%|██████████| 28.9k/28.9k [00:00<00:00, 493kB/s]\n"
          ]
        },
        {
          "output_type": "stream",
          "name": "stdout",
          "text": [
            "Extracting data/MNIST/raw/train-labels-idx1-ubyte.gz to data/MNIST/raw\n",
            "\n",
            "Downloading http://yann.lecun.com/exdb/mnist/t10k-images-idx3-ubyte.gz\n",
            "Failed to download (trying next):\n",
            "HTTP Error 403: Forbidden\n",
            "\n",
            "Downloading https://ossci-datasets.s3.amazonaws.com/mnist/t10k-images-idx3-ubyte.gz\n",
            "Downloading https://ossci-datasets.s3.amazonaws.com/mnist/t10k-images-idx3-ubyte.gz to data/MNIST/raw/t10k-images-idx3-ubyte.gz\n"
          ]
        },
        {
          "output_type": "stream",
          "name": "stderr",
          "text": [
            "100%|██████████| 1.65M/1.65M [00:00<00:00, 4.58MB/s]\n"
          ]
        },
        {
          "output_type": "stream",
          "name": "stdout",
          "text": [
            "Extracting data/MNIST/raw/t10k-images-idx3-ubyte.gz to data/MNIST/raw\n",
            "\n",
            "Downloading http://yann.lecun.com/exdb/mnist/t10k-labels-idx1-ubyte.gz\n",
            "Failed to download (trying next):\n",
            "HTTP Error 403: Forbidden\n",
            "\n",
            "Downloading https://ossci-datasets.s3.amazonaws.com/mnist/t10k-labels-idx1-ubyte.gz\n",
            "Downloading https://ossci-datasets.s3.amazonaws.com/mnist/t10k-labels-idx1-ubyte.gz to data/MNIST/raw/t10k-labels-idx1-ubyte.gz\n"
          ]
        },
        {
          "output_type": "stream",
          "name": "stderr",
          "text": [
            "100%|██████████| 4.54k/4.54k [00:00<00:00, 3.18MB/s]"
          ]
        },
        {
          "output_type": "stream",
          "name": "stdout",
          "text": [
            "Extracting data/MNIST/raw/t10k-labels-idx1-ubyte.gz to data/MNIST/raw\n",
            "\n"
          ]
        },
        {
          "output_type": "stream",
          "name": "stderr",
          "text": [
            "\n"
          ]
        }
      ],
      "source": [
        "MEAN, STD = 0.1307, 0.3081\n",
        "transformation = transforms.Compose([transforms.Pad(2), transforms.ToTensor(), transforms.Normalize((MEAN,), (STD, ))])\n",
        "device = torch.device('cuda' if torch.cuda.is_available() else 'cpu')\n",
        "\n",
        "\n",
        "trainingData = datasets.MNIST(\n",
        "    root=\"data\",\n",
        "    train=True,\n",
        "    download=True,\n",
        "    transform=transformation\n",
        ")\n",
        "\n",
        "testingData = datasets.MNIST(\n",
        "    root=\"data\",\n",
        "    train=False,\n",
        "    download=True,\n",
        "    transform=transformation\n",
        ")"
      ]
    },
    {
      "cell_type": "markdown",
      "metadata": {
        "id": "hlOK__4oVbzG"
      },
      "source": [
        "First let's visualize the images"
      ]
    },
    {
      "cell_type": "code",
      "execution_count": 4,
      "metadata": {
        "colab": {
          "base_uri": "https://localhost:8080/",
          "height": 692
        },
        "id": "5WAbXIG1vcgY",
        "outputId": "01354b56-554a-45f0-d7d0-f9013b109a6e"
      },
      "outputs": [
        {
          "output_type": "display_data",
          "data": {
            "text/plain": [
              "<Figure size 800x800 with 9 Axes>"
            ],
            "image/png": "[encoded data removed]"
          },
          "metadata": {}
        },
        {
          "output_type": "stream",
          "name": "stdout",
          "text": [
            "torch.Size([1, 32, 32])\n"
          ]
        }
      ],
      "source": [
        "figure = plt.figure(figsize=(8, 8))\n",
        "cols, rows = 3, 3\n",
        "for i in range(1, cols * rows + 1):\n",
        "  sample_idx = torch.randint(len(trainingData), size=(1,)).item()\n",
        "  img, label = trainingData[sample_idx]\n",
        "  figure.add_subplot(rows, cols, i)\n",
        "  plt.title(f\"{label}\")\n",
        "  plt.axis(\"off\")\n",
        "  plt.imshow(img.squeeze())\n",
        "plt.show()\n",
        "print(trainingData[0][0].shape)"
      ]
    },
    {
      "cell_type": "markdown",
      "metadata": {
        "id": "ZyAOl6EtVffk"
      },
      "source": [
        "The shape is 32x32, perfect for the LeNet.\n",
        "\n",
        "\n",
        "---\n",
        "\n",
        "\n",
        "We will define dataloaders for both training and test\n",
        "\n"
      ]
    },
    {
      "cell_type": "code",
      "execution_count": 5,
      "metadata": {
        "id": "uOpKugR7qrNk"
      },
      "outputs": [],
      "source": [
        "train_loader = DataLoader(trainingData,\n",
        "                        batch_size=32)\n",
        "test_loader = DataLoader(testingData,\n",
        "                         batch_size=32)"
      ]
    },
    {
      "cell_type": "markdown",
      "metadata": {
        "id": "l9rbTso8uU6Y"
      },
      "source": [
        "\n",
        "Now we define the different parts of the architecture.\n",
        "\n",
        "The first Convolutional layer consists of 6 different filters, with 5x5 filters, no padding, and a stride of 1\n",
        "\n",
        "Then we have a downsampling pooling layer w/ 2x2 kernels and a stride of 2\n",
        "\n",
        "Then another conv layer with 16 filters 5x5 kernels\n",
        "\n",
        "Then a max pooling later with 2x2 kernels and a stride of 2\n",
        "\n",
        "then 3 fully connected layers 120 -> 84 -> 10\n",
        "\n",
        "finally, a softmax along dim 0\n"
      ]
    },
    {
      "cell_type": "code",
      "execution_count": 6,
      "metadata": {
        "colab": {
          "base_uri": "https://localhost:8080/"
        },
        "id": "NcFIh-skuPum",
        "outputId": "70f70b7a-3bc8-4a55-a8cf-cdd01e918149"
      },
      "outputs": [
        {
          "output_type": "execute_result",
          "data": {
            "text/plain": [
              "==========================================================================================\n",
              "Layer (type:depth-idx)                   Output Shape              Param #\n",
              "==========================================================================================\n",
              "ConvNet                                  [32, 10]                  --\n",
              "├─Conv2d: 1-1                            [32, 6, 28, 28]           156\n",
              "├─MaxPool2d: 1-2                         [32, 6, 14, 14]           --\n",
              "├─Conv2d: 1-3                            [32, 16, 10, 10]          2,416\n",
              "├─MaxPool2d: 1-4                         [32, 16, 5, 5]            --\n",
              "├─Linear: 1-5                            [32, 120]                 48,120\n",
              "├─Linear: 1-6                            [32, 84]                  10,164\n",
              "├─Linear: 1-7                            [32, 10]                  850\n",
              "==========================================================================================\n",
              "Total params: 61,706\n",
              "Trainable params: 61,706\n",
              "Non-trainable params: 0\n",
              "Total mult-adds (M): 13.54\n",
              "==========================================================================================\n",
              "Input size (MB): 0.13\n",
              "Forward/backward pass size (MB): 1.67\n",
              "Params size (MB): 0.25\n",
              "Estimated Total Size (MB): 2.05\n",
              "=========================================================================================="
            ]
          },
          "metadata": {},
          "execution_count": 6
        }
      ],
      "source": [
        "class ConvNet(nn.Module):\n",
        "  def __init__(self):\n",
        "    super().__init__()\n",
        "    self.conv_1 = nn.Conv2d(in_channels=1,\n",
        "                            out_channels=6,\n",
        "                            kernel_size=5) #Stride = 1\n",
        "    self.maxpool_1 = nn.MaxPool2d(kernel_size=2,\n",
        "                                  stride=2)\n",
        "    self.conv_2 = nn.Conv2d(in_channels=6,\n",
        "                            out_channels=16,\n",
        "                            kernel_size=5)\n",
        "    self.maxpool_2 = nn.MaxPool2d(kernel_size=2,\n",
        "                                  stride=2)\n",
        "    self.fullyconnected1 = nn.Linear(400, 120)\n",
        "    self.fullyconnected2 = nn.Linear(120, 84)\n",
        "    self.finalConnected = nn.Linear(84, 10)\n",
        "  def forward(self, x):\n",
        "    downsampled_convolved = self.maxpool_2(self.conv_2(self.maxpool_1(self.conv_1(x))))\n",
        "    reshaped = torch.reshape(downsampled_convolved, (downsampled_convolved.size(0), -1))\n",
        "    return self.finalConnected(self.fullyconnected2(self.fullyconnected1(reshaped)))\n",
        "model = ConvNet()\n",
        "summary(model, input_size=(32, 1, 32, 32))"
      ]
    },
    {
      "cell_type": "markdown",
      "metadata": {
        "id": "EjbNfkiIvRXl"
      },
      "source": []
    },
    {
      "cell_type": "code",
      "execution_count": 10,
      "metadata": {
        "colab": {
          "base_uri": "https://localhost:8080/"
        },
        "id": "jZxcy0guz5cZ",
        "outputId": "84a30be4-70dc-4c41-8473-efb75db2330d"
      },
      "outputs": [
        {
          "output_type": "stream",
          "name": "stderr",
          "text": [
            "Epoch 1/10: 100%|██| 1875/1875 [00:28<00:00, 66.91it/s, loss=0.1784, acc=94.69%]\n",
            "Epoch 2/10: 100%|██| 1875/1875 [00:28<00:00, 66.85it/s, loss=0.0885, acc=97.40%]\n",
            "Epoch 3/10: 100%|██| 1875/1875 [00:28<00:00, 65.85it/s, loss=0.0753, acc=97.73%]\n",
            "Epoch 4/10: 100%|██| 1875/1875 [00:27<00:00, 67.41it/s, loss=0.0661, acc=98.01%]\n",
            "Epoch 5/10: 100%|██| 1875/1875 [00:27<00:00, 67.22it/s, loss=0.0604, acc=98.16%]\n",
            "Epoch 6/10: 100%|██| 1875/1875 [00:27<00:00, 67.16it/s, loss=0.0555, acc=98.33%]\n",
            "Epoch 7/10: 100%|██| 1875/1875 [00:28<00:00, 65.02it/s, loss=0.0503, acc=98.50%]\n",
            "Epoch 8/10: 100%|██| 1875/1875 [00:27<00:00, 67.09it/s, loss=0.0477, acc=98.53%]\n",
            "Epoch 9/10: 100%|██| 1875/1875 [00:28<00:00, 66.60it/s, loss=0.0444, acc=98.60%]\n",
            "Epoch 10/10: 100%|█| 1875/1875 [00:28<00:00, 66.51it/s, loss=0.0425, acc=98.65%]\n"
          ]
        }
      ],
      "source": [
        "num_epochs = 10\n",
        "curr_loss = 0\n",
        "\n",
        "conv_net = ConvNet().to(device)\n",
        "optimizer = optim.Adam(conv_net.parameters())\n",
        "criterion = nn.CrossEntropyLoss().to(device)\n",
        "\n",
        "for epoch in range(num_epochs):\n",
        "\n",
        "  progress_bar = tqdm(train_loader,\n",
        "                      desc=f\"Epoch {epoch + 1}/{num_epochs}\",\n",
        "                        leave=True,\n",
        "                       position=0,\n",
        "                       ncols=80)\n",
        "  conv_net.train()\n",
        "  incorrect_examples = 0\n",
        "  total_examples = 0\n",
        "  running_loss = 0.0\n",
        "\n",
        "  for batch_idx, (image, label) in enumerate(progress_bar):\n",
        "    image = image.to(device)\n",
        "    label = label.to(device)\n",
        "\n",
        "    guess = conv_net(image)\n",
        "    loss = criterion(guess, label)\n",
        "\n",
        "\n",
        "\n",
        "    optimizer.zero_grad()\n",
        "    loss.backward()\n",
        "    optimizer.step()\n",
        "\n",
        "    _, predicted = torch.max(guess, dim=1)\n",
        "    incorrect_examples += (label != predicted).sum().item()\n",
        "    total_examples += label.size(0)\n",
        "\n",
        "    running_loss += loss.item()\n",
        "    avg_loss = running_loss / (batch_idx + 1)\n",
        "\n",
        "    accuracy = 100 * (1 - incorrect_examples / total_examples)\n",
        "    progress_bar.set_postfix({\n",
        "        'loss': f'{avg_loss:.4f}',\n",
        "        'acc': f'{accuracy:.2f}%'\n",
        "    }, refresh=True)\n",
        "\n",
        "  progress_bar.close()\n"
      ]
    },
    {
      "cell_type": "code",
      "execution_count": 11,
      "metadata": {
        "colab": {
          "base_uri": "https://localhost:8080/"
        },
        "id": "19vO9huA564C",
        "outputId": "64ecce5e-03d0-423a-fc9e-cfbc53e9a2ba"
      },
      "outputs": [
        {
          "output_type": "stream",
          "name": "stderr",
          "text": [
            "100%|██████████| 313/313 [00:04<00:00, 67.67it/s, acc=97.71%]"
          ]
        },
        {
          "output_type": "stream",
          "name": "stdout",
          "text": [
            "0.731629392971246\n",
            "Test Accuracy: 97.71%\n"
          ]
        },
        {
          "output_type": "stream",
          "name": "stderr",
          "text": [
            "\n"
          ]
        }
      ],
      "source": [
        "  conv_net.eval()\n",
        "  progress_bar = tqdm(test_loader)\n",
        "  incorrect_examples = total_examples = 0\n",
        "  with torch.no_grad():\n",
        "    for image, label in progress_bar:\n",
        "      image = image.to(device)\n",
        "      label = label.to(device)\n",
        "\n",
        "      guess = conv_net(image)\n",
        "      _, predicted = torch.max(guess, dim=1)\n",
        "\n",
        "      incorrect_examples += (label != predicted).sum().item()\n",
        "      total_examples += label.size(0)\n",
        "\n",
        "      accuracy = 100 * (1 - incorrect_examples / total_examples)\n",
        "      progress_bar.set_postfix({\n",
        "                  'acc': f'{accuracy:.2f}%'\n",
        "              })\n",
        "\n",
        "\n",
        "    print(incorrect_examples/len(test_loader))\n",
        "progress_bar.close()\n",
        "print(f\"Test Accuracy: {100 * (1 - incorrect_examples/total_examples):.2f}%\")"
      ]
    }
  ],
  "metadata": {
    "accelerator": "GPU",
    "colab": {
      "gpuType": "T4",
      "provenance": [],
      "authorship_tag": "ABX9TyOkVeuCU4yDeu4uee/dVYjc",
      "include_colab_link": true
    },
    "kernelspec": {
      "display_name": "Python 3",
      "name": "python3"
    },
    "language_info": {
      "name": "python"
    }
  },
  "nbformat": 4,
  "nbformat_minor": 0
}